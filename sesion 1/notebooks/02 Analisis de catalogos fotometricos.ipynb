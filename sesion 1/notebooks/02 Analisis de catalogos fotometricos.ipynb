{
 "cells": [
  {
   "cell_type": "markdown",
   "metadata": {},
   "source": [
    "# Análisis de catálogos fotométricos\n",
    "\n",
    "**Autor:** Roberto Muñoz <br>\n",
    "**Github:** <https://github.com/rpmunoz>\n",
    "\n",
    "Este notebook muestra cómo cargar en memoria un catálogo fotométrico y hacer análisis exploratorio.\n",
    "\n",
    "Este notebook se apoya en el uso de librerías estándar de Python y otras creadas por la comunidad de Astronomía.\n",
    "\n",
    "- numpy\n",
    "- pandas\n",
    "- matplotlib\n",
    "- Pillow\n",
    "- astropy\n",
    "- astroquery"
   ]
  },
  {
   "cell_type": "code",
   "execution_count": 1,
   "metadata": {},
   "outputs": [],
   "source": [
    "import os\n",
    "import numpy as np\n",
    "import pandas as pd\n",
    "import seaborn as sns\n",
    "import matplotlib.pyplot as plt\n",
    "\n",
    "from astropy.cosmology import FlatLambdaCDM"
   ]
  },
  {
   "cell_type": "code",
   "execution_count": 2,
   "metadata": {},
   "outputs": [],
   "source": [
    "import warnings\n",
    "from astropy.utils.exceptions import AstropyWarning\n",
    "warnings.filterwarnings(\"ignore\", category=AstropyWarning) \n",
    "warnings.filterwarnings(\"ignore\", category=np.VisibleDeprecationWarning) "
   ]
  },
  {
   "cell_type": "markdown",
   "metadata": {},
   "source": [
    "### Cargamos los archivos"
   ]
  },
  {
   "cell_type": "code",
   "execution_count": 3,
   "metadata": {},
   "outputs": [],
   "source": [
    "spiralFile = 'data/SDSS_phot_spiral.csv'\n",
    "ellipticalFile = 'data/SDSS_phot_elliptical.csv'"
   ]
  },
  {
   "cell_type": "code",
   "execution_count": 4,
   "metadata": {},
   "outputs": [
    {
     "data": {
      "text/html": [
       "<div>\n",
       "<style scoped>\n",
       "    .dataframe tbody tr th:only-of-type {\n",
       "        vertical-align: middle;\n",
       "    }\n",
       "\n",
       "    .dataframe tbody tr th {\n",
       "        vertical-align: top;\n",
       "    }\n",
       "\n",
       "    .dataframe thead th {\n",
       "        text-align: right;\n",
       "    }\n",
       "</style>\n",
       "<table border=\"1\" class=\"dataframe\">\n",
       "  <thead>\n",
       "    <tr style=\"text-align: right;\">\n",
       "      <th></th>\n",
       "      <th>RA</th>\n",
       "      <th>DEC</th>\n",
       "      <th>u</th>\n",
       "      <th>g</th>\n",
       "      <th>r</th>\n",
       "      <th>i</th>\n",
       "      <th>z</th>\n",
       "      <th>redshift</th>\n",
       "      <th>Filename</th>\n",
       "    </tr>\n",
       "  </thead>\n",
       "  <tbody>\n",
       "    <tr>\n",
       "      <th>0</th>\n",
       "      <td>186.430379</td>\n",
       "      <td>6.890050</td>\n",
       "      <td>19.29072</td>\n",
       "      <td>17.56456</td>\n",
       "      <td>16.78211</td>\n",
       "      <td>16.36568</td>\n",
       "      <td>16.09331</td>\n",
       "      <td>0.076548</td>\n",
       "      <td>data\\sdss\\SDSS_galaxy00.jpg</td>\n",
       "    </tr>\n",
       "    <tr>\n",
       "      <th>1</th>\n",
       "      <td>187.661986</td>\n",
       "      <td>-3.234936</td>\n",
       "      <td>17.69997</td>\n",
       "      <td>16.47884</td>\n",
       "      <td>16.00701</td>\n",
       "      <td>15.73655</td>\n",
       "      <td>15.52771</td>\n",
       "      <td>0.041252</td>\n",
       "      <td>data\\sdss\\SDSS_galaxy01.jpg</td>\n",
       "    </tr>\n",
       "    <tr>\n",
       "      <th>2</th>\n",
       "      <td>234.735495</td>\n",
       "      <td>32.823727</td>\n",
       "      <td>19.09427</td>\n",
       "      <td>18.02415</td>\n",
       "      <td>17.42668</td>\n",
       "      <td>17.11024</td>\n",
       "      <td>16.90405</td>\n",
       "      <td>0.126288</td>\n",
       "      <td>data\\sdss\\SDSS_galaxy02.jpg</td>\n",
       "    </tr>\n",
       "    <tr>\n",
       "      <th>3</th>\n",
       "      <td>150.822284</td>\n",
       "      <td>18.865613</td>\n",
       "      <td>20.17254</td>\n",
       "      <td>18.65029</td>\n",
       "      <td>17.58645</td>\n",
       "      <td>17.09255</td>\n",
       "      <td>16.74145</td>\n",
       "      <td>0.163317</td>\n",
       "      <td>data\\sdss\\SDSS_galaxy03.jpg</td>\n",
       "    </tr>\n",
       "    <tr>\n",
       "      <th>4</th>\n",
       "      <td>249.858354</td>\n",
       "      <td>40.602508</td>\n",
       "      <td>17.52493</td>\n",
       "      <td>16.38439</td>\n",
       "      <td>15.97529</td>\n",
       "      <td>15.74936</td>\n",
       "      <td>15.57530</td>\n",
       "      <td>0.034727</td>\n",
       "      <td>data\\sdss\\SDSS_galaxy04.jpg</td>\n",
       "    </tr>\n",
       "  </tbody>\n",
       "</table>\n",
       "</div>"
      ],
      "text/plain": [
       "           RA        DEC         u         g         r         i         z  \\\n",
       "0  186.430379   6.890050  19.29072  17.56456  16.78211  16.36568  16.09331   \n",
       "1  187.661986  -3.234936  17.69997  16.47884  16.00701  15.73655  15.52771   \n",
       "2  234.735495  32.823727  19.09427  18.02415  17.42668  17.11024  16.90405   \n",
       "3  150.822284  18.865613  20.17254  18.65029  17.58645  17.09255  16.74145   \n",
       "4  249.858354  40.602508  17.52493  16.38439  15.97529  15.74936  15.57530   \n",
       "\n",
       "   redshift                     Filename  \n",
       "0  0.076548  data\\sdss\\SDSS_galaxy00.jpg  \n",
       "1  0.041252  data\\sdss\\SDSS_galaxy01.jpg  \n",
       "2  0.126288  data\\sdss\\SDSS_galaxy02.jpg  \n",
       "3  0.163317  data\\sdss\\SDSS_galaxy03.jpg  \n",
       "4  0.034727  data\\sdss\\SDSS_galaxy04.jpg  "
      ]
     },
     "execution_count": 4,
     "metadata": {},
     "output_type": "execute_result"
    }
   ],
   "source": [
    "spiralDF = pd.read_csv(spiralFile)\n",
    "spiralDF.head()"
   ]
  },
  {
   "cell_type": "code",
   "execution_count": 5,
   "metadata": {},
   "outputs": [
    {
     "data": {
      "text/html": [
       "<div>\n",
       "<style scoped>\n",
       "    .dataframe tbody tr th:only-of-type {\n",
       "        vertical-align: middle;\n",
       "    }\n",
       "\n",
       "    .dataframe tbody tr th {\n",
       "        vertical-align: top;\n",
       "    }\n",
       "\n",
       "    .dataframe thead th {\n",
       "        text-align: right;\n",
       "    }\n",
       "</style>\n",
       "<table border=\"1\" class=\"dataframe\">\n",
       "  <thead>\n",
       "    <tr style=\"text-align: right;\">\n",
       "      <th></th>\n",
       "      <th>RA</th>\n",
       "      <th>DEC</th>\n",
       "      <th>u</th>\n",
       "      <th>g</th>\n",
       "      <th>r</th>\n",
       "      <th>i</th>\n",
       "      <th>z</th>\n",
       "      <th>redshift</th>\n",
       "      <th>Filename</th>\n",
       "    </tr>\n",
       "  </thead>\n",
       "  <tbody>\n",
       "    <tr>\n",
       "      <th>0</th>\n",
       "      <td>133.410484</td>\n",
       "      <td>37.352685</td>\n",
       "      <td>20.37412</td>\n",
       "      <td>18.43065</td>\n",
       "      <td>17.48223</td>\n",
       "      <td>17.05733</td>\n",
       "      <td>16.77052</td>\n",
       "      <td>0.103878</td>\n",
       "      <td>data\\sdss\\SDSS_galaxy00.jpg</td>\n",
       "    </tr>\n",
       "    <tr>\n",
       "      <th>1</th>\n",
       "      <td>132.631845</td>\n",
       "      <td>31.092379</td>\n",
       "      <td>20.72427</td>\n",
       "      <td>18.91892</td>\n",
       "      <td>17.55565</td>\n",
       "      <td>17.03991</td>\n",
       "      <td>16.70897</td>\n",
       "      <td>0.241009</td>\n",
       "      <td>data\\sdss\\SDSS_galaxy01.jpg</td>\n",
       "    </tr>\n",
       "    <tr>\n",
       "      <th>2</th>\n",
       "      <td>148.320466</td>\n",
       "      <td>54.541002</td>\n",
       "      <td>20.11238</td>\n",
       "      <td>18.15816</td>\n",
       "      <td>16.82867</td>\n",
       "      <td>16.34992</td>\n",
       "      <td>16.00213</td>\n",
       "      <td>0.214942</td>\n",
       "      <td>data\\sdss\\SDSS_galaxy02.jpg</td>\n",
       "    </tr>\n",
       "    <tr>\n",
       "      <th>3</th>\n",
       "      <td>131.718462</td>\n",
       "      <td>35.731479</td>\n",
       "      <td>19.15211</td>\n",
       "      <td>17.73698</td>\n",
       "      <td>17.07174</td>\n",
       "      <td>16.73274</td>\n",
       "      <td>16.53992</td>\n",
       "      <td>0.085522</td>\n",
       "      <td>data\\sdss\\SDSS_galaxy03.jpg</td>\n",
       "    </tr>\n",
       "    <tr>\n",
       "      <th>4</th>\n",
       "      <td>147.346017</td>\n",
       "      <td>7.188771</td>\n",
       "      <td>20.60811</td>\n",
       "      <td>18.63410</td>\n",
       "      <td>17.60214</td>\n",
       "      <td>17.18304</td>\n",
       "      <td>16.81255</td>\n",
       "      <td>0.128056</td>\n",
       "      <td>data\\sdss\\SDSS_galaxy04.jpg</td>\n",
       "    </tr>\n",
       "  </tbody>\n",
       "</table>\n",
       "</div>"
      ],
      "text/plain": [
       "           RA        DEC         u         g         r         i         z  \\\n",
       "0  133.410484  37.352685  20.37412  18.43065  17.48223  17.05733  16.77052   \n",
       "1  132.631845  31.092379  20.72427  18.91892  17.55565  17.03991  16.70897   \n",
       "2  148.320466  54.541002  20.11238  18.15816  16.82867  16.34992  16.00213   \n",
       "3  131.718462  35.731479  19.15211  17.73698  17.07174  16.73274  16.53992   \n",
       "4  147.346017   7.188771  20.60811  18.63410  17.60214  17.18304  16.81255   \n",
       "\n",
       "   redshift                     Filename  \n",
       "0  0.103878  data\\sdss\\SDSS_galaxy00.jpg  \n",
       "1  0.241009  data\\sdss\\SDSS_galaxy01.jpg  \n",
       "2  0.214942  data\\sdss\\SDSS_galaxy02.jpg  \n",
       "3  0.085522  data\\sdss\\SDSS_galaxy03.jpg  \n",
       "4  0.128056  data\\sdss\\SDSS_galaxy04.jpg  "
      ]
     },
     "execution_count": 5,
     "metadata": {},
     "output_type": "execute_result"
    }
   ],
   "source": [
    "ellipticalDF = pd.read_csv(ellipticalFile)\n",
    "ellipticalDF.head()"
   ]
  },
  {
   "cell_type": "code",
   "execution_count": 6,
   "metadata": {},
   "outputs": [],
   "source": [
    "spiralDF['g-r'] = spiralDF['g'] - spiralDF['r']\n",
    "ellipticalDF['g-r'] = ellipticalDF['g'] - ellipticalDF['r']"
   ]
  },
  {
   "cell_type": "code",
   "execution_count": 7,
   "metadata": {},
   "outputs": [
    {
     "data": {
      "text/plain": [
       "Text(0.5, 1.0, 'Diagrama color - Galaxias espirales')"
      ]
     },
     "execution_count": 7,
     "metadata": {},
     "output_type": "execute_result"
    },
    {
     "data": {
      "image/png": "[encoded data removed]",
      "text/plain": [
       "<Figure size 432x288 with 1 Axes>"
      ]
     },
     "metadata": {
      "needs_background": "light"
     },
     "output_type": "display_data"
    }
   ],
   "source": [
    "sns.scatterplot(x='r', y='g-r', data=spiralDF)\n",
    "plt.title('Diagrama color - Galaxias espirales')"
   ]
  },
  {
   "cell_type": "code",
   "execution_count": 8,
   "metadata": {},
   "outputs": [
    {
     "data": {
      "text/plain": [
       "(0.0, 1.379587499999999)"
      ]
     },
     "execution_count": 8,
     "metadata": {},
     "output_type": "execute_result"
    },
    {
     "data": {
      "image/png": "[encoded data removed]",
      "text/plain": [
       "<Figure size 432x288 with 1 Axes>"
      ]
     },
     "metadata": {
      "needs_background": "light"
     },
     "output_type": "display_data"
    }
   ],
   "source": [
    "sns.scatterplot(x='r', y='g-r', data=spiralDF)\n",
    "plt.title('Diagrama color - Galaxias espirales')\n",
    "plt.xlim(right=19)\n",
    "plt.ylim(bottom=0)"
   ]
  },
  {
   "cell_type": "code",
   "execution_count": 9,
   "metadata": {},
   "outputs": [
    {
     "data": {
      "text/plain": [
       "Text(0.5, 1.0, 'Diagrama color - Galaxias elípticas')"
      ]
     },
     "execution_count": 9,
     "metadata": {},
     "output_type": "execute_result"
    },
    {
     "data": {
      "image/png": "[encoded data removed]",
      "text/plain": [
       "<Figure size 432x288 with 1 Axes>"
      ]
     },
     "metadata": {
      "needs_background": "light"
     },
     "output_type": "display_data"
    }
   ],
   "source": [
    "sns.scatterplot(x='r', y='g-r', data=ellipticalDF)\n",
    "plt.title('Diagrama color - Galaxias elípticas')"
   ]
  },
  {
   "cell_type": "markdown",
   "metadata": {},
   "source": [
    "### Calculamos la distancia y magnitud absoluta"
   ]
  },
  {
   "cell_type": "code",
   "execution_count": 10,
   "metadata": {},
   "outputs": [],
   "source": [
    "cosmo = FlatLambdaCDM(H0=70, Om0=0.3)"
   ]
  },
  {
   "cell_type": "code",
   "execution_count": 11,
   "metadata": {},
   "outputs": [
    {
     "data": {
      "text/html": [
       "<div>\n",
       "<style scoped>\n",
       "    .dataframe tbody tr th:only-of-type {\n",
       "        vertical-align: middle;\n",
       "    }\n",
       "\n",
       "    .dataframe tbody tr th {\n",
       "        vertical-align: top;\n",
       "    }\n",
       "\n",
       "    .dataframe thead th {\n",
       "        text-align: right;\n",
       "    }\n",
       "</style>\n",
       "<table border=\"1\" class=\"dataframe\">\n",
       "  <thead>\n",
       "    <tr style=\"text-align: right;\">\n",
       "      <th></th>\n",
       "      <th>RA</th>\n",
       "      <th>DEC</th>\n",
       "      <th>u</th>\n",
       "      <th>g</th>\n",
       "      <th>r</th>\n",
       "      <th>i</th>\n",
       "      <th>z</th>\n",
       "      <th>redshift</th>\n",
       "      <th>Filename</th>\n",
       "      <th>g-r</th>\n",
       "      <th>distance</th>\n",
       "      <th>Mr</th>\n",
       "    </tr>\n",
       "  </thead>\n",
       "  <tbody>\n",
       "    <tr>\n",
       "      <th>0</th>\n",
       "      <td>186.430379</td>\n",
       "      <td>6.890050</td>\n",
       "      <td>19.29072</td>\n",
       "      <td>17.56456</td>\n",
       "      <td>16.78211</td>\n",
       "      <td>16.36568</td>\n",
       "      <td>16.09331</td>\n",
       "      <td>0.076548</td>\n",
       "      <td>data\\sdss\\SDSS_galaxy00.jpg</td>\n",
       "      <td>0.78245</td>\n",
       "      <td>346.758462</td>\n",
       "      <td>-20.918025</td>\n",
       "    </tr>\n",
       "    <tr>\n",
       "      <th>1</th>\n",
       "      <td>187.661986</td>\n",
       "      <td>-3.234936</td>\n",
       "      <td>17.69997</td>\n",
       "      <td>16.47884</td>\n",
       "      <td>16.00701</td>\n",
       "      <td>15.73655</td>\n",
       "      <td>15.52771</td>\n",
       "      <td>0.041252</td>\n",
       "      <td>data\\sdss\\SDSS_galaxy01.jpg</td>\n",
       "      <td>0.47183</td>\n",
       "      <td>182.235839</td>\n",
       "      <td>-20.296159</td>\n",
       "    </tr>\n",
       "    <tr>\n",
       "      <th>2</th>\n",
       "      <td>234.735495</td>\n",
       "      <td>32.823727</td>\n",
       "      <td>19.09427</td>\n",
       "      <td>18.02415</td>\n",
       "      <td>17.42668</td>\n",
       "      <td>17.11024</td>\n",
       "      <td>16.90405</td>\n",
       "      <td>0.126288</td>\n",
       "      <td>data\\sdss\\SDSS_galaxy02.jpg</td>\n",
       "      <td>0.59747</td>\n",
       "      <td>591.453196</td>\n",
       "      <td>-21.432922</td>\n",
       "    </tr>\n",
       "    <tr>\n",
       "      <th>3</th>\n",
       "      <td>150.822284</td>\n",
       "      <td>18.865613</td>\n",
       "      <td>20.17254</td>\n",
       "      <td>18.65029</td>\n",
       "      <td>17.58645</td>\n",
       "      <td>17.09255</td>\n",
       "      <td>16.74145</td>\n",
       "      <td>0.163317</td>\n",
       "      <td>data\\sdss\\SDSS_galaxy03.jpg</td>\n",
       "      <td>1.06384</td>\n",
       "      <td>782.918658</td>\n",
       "      <td>-21.882133</td>\n",
       "    </tr>\n",
       "    <tr>\n",
       "      <th>4</th>\n",
       "      <td>249.858354</td>\n",
       "      <td>40.602508</td>\n",
       "      <td>17.52493</td>\n",
       "      <td>16.38439</td>\n",
       "      <td>15.97529</td>\n",
       "      <td>15.74936</td>\n",
       "      <td>15.57530</td>\n",
       "      <td>0.034727</td>\n",
       "      <td>data\\sdss\\SDSS_galaxy04.jpg</td>\n",
       "      <td>0.40910</td>\n",
       "      <td>152.682067</td>\n",
       "      <td>-19.943650</td>\n",
       "    </tr>\n",
       "  </tbody>\n",
       "</table>\n",
       "</div>"
      ],
      "text/plain": [
       "           RA        DEC         u         g         r         i         z  \\\n",
       "0  186.430379   6.890050  19.29072  17.56456  16.78211  16.36568  16.09331   \n",
       "1  187.661986  -3.234936  17.69997  16.47884  16.00701  15.73655  15.52771   \n",
       "2  234.735495  32.823727  19.09427  18.02415  17.42668  17.11024  16.90405   \n",
       "3  150.822284  18.865613  20.17254  18.65029  17.58645  17.09255  16.74145   \n",
       "4  249.858354  40.602508  17.52493  16.38439  15.97529  15.74936  15.57530   \n",
       "\n",
       "   redshift                     Filename      g-r    distance         Mr  \n",
       "0  0.076548  data\\sdss\\SDSS_galaxy00.jpg  0.78245  346.758462 -20.918025  \n",
       "1  0.041252  data\\sdss\\SDSS_galaxy01.jpg  0.47183  182.235839 -20.296159  \n",
       "2  0.126288  data\\sdss\\SDSS_galaxy02.jpg  0.59747  591.453196 -21.432922  \n",
       "3  0.163317  data\\sdss\\SDSS_galaxy03.jpg  1.06384  782.918658 -21.882133  \n",
       "4  0.034727  data\\sdss\\SDSS_galaxy04.jpg  0.40910  152.682067 -19.943650  "
      ]
     },
     "execution_count": 11,
     "metadata": {},
     "output_type": "execute_result"
    }
   ],
   "source": [
    "spiralDF['distance'] = cosmo.luminosity_distance(spiralDF['redshift'])\n",
    "spiralDF['Mr'] = spiralDF['r'] - 5*np.log10(spiralDF['distance']*1e6/10)\n",
    "\n",
    "spiralDF.head()"
   ]
  },
  {
   "cell_type": "code",
   "execution_count": 12,
   "metadata": {},
   "outputs": [
    {
     "data": {
      "text/html": [
       "<div>\n",
       "<style scoped>\n",
       "    .dataframe tbody tr th:only-of-type {\n",
       "        vertical-align: middle;\n",
       "    }\n",
       "\n",
       "    .dataframe tbody tr th {\n",
       "        vertical-align: top;\n",
       "    }\n",
       "\n",
       "    .dataframe thead th {\n",
       "        text-align: right;\n",
       "    }\n",
       "</style>\n",
       "<table border=\"1\" class=\"dataframe\">\n",
       "  <thead>\n",
       "    <tr style=\"text-align: right;\">\n",
       "      <th></th>\n",
       "      <th>RA</th>\n",
       "      <th>DEC</th>\n",
       "      <th>u</th>\n",
       "      <th>g</th>\n",
       "      <th>r</th>\n",
       "      <th>i</th>\n",
       "      <th>z</th>\n",
       "      <th>redshift</th>\n",
       "      <th>Filename</th>\n",
       "      <th>g-r</th>\n",
       "      <th>distance</th>\n",
       "      <th>Mr</th>\n",
       "    </tr>\n",
       "  </thead>\n",
       "  <tbody>\n",
       "    <tr>\n",
       "      <th>0</th>\n",
       "      <td>133.410484</td>\n",
       "      <td>37.352685</td>\n",
       "      <td>20.37412</td>\n",
       "      <td>18.43065</td>\n",
       "      <td>17.48223</td>\n",
       "      <td>17.05733</td>\n",
       "      <td>16.77052</td>\n",
       "      <td>0.103878</td>\n",
       "      <td>data\\sdss\\SDSS_galaxy00.jpg</td>\n",
       "      <td>0.94842</td>\n",
       "      <td>479.390047</td>\n",
       "      <td>-20.921215</td>\n",
       "    </tr>\n",
       "    <tr>\n",
       "      <th>1</th>\n",
       "      <td>132.631845</td>\n",
       "      <td>31.092379</td>\n",
       "      <td>20.72427</td>\n",
       "      <td>18.91892</td>\n",
       "      <td>17.55565</td>\n",
       "      <td>17.03991</td>\n",
       "      <td>16.70897</td>\n",
       "      <td>0.241009</td>\n",
       "      <td>data\\sdss\\SDSS_galaxy01.jpg</td>\n",
       "      <td>1.36327</td>\n",
       "      <td>1208.864519</td>\n",
       "      <td>-22.856238</td>\n",
       "    </tr>\n",
       "    <tr>\n",
       "      <th>2</th>\n",
       "      <td>148.320466</td>\n",
       "      <td>54.541002</td>\n",
       "      <td>20.11238</td>\n",
       "      <td>18.15816</td>\n",
       "      <td>16.82867</td>\n",
       "      <td>16.34992</td>\n",
       "      <td>16.00213</td>\n",
       "      <td>0.214942</td>\n",
       "      <td>data\\sdss\\SDSS_galaxy02.jpg</td>\n",
       "      <td>1.32949</td>\n",
       "      <td>1062.429193</td>\n",
       "      <td>-23.302830</td>\n",
       "    </tr>\n",
       "    <tr>\n",
       "      <th>3</th>\n",
       "      <td>131.718462</td>\n",
       "      <td>35.731479</td>\n",
       "      <td>19.15211</td>\n",
       "      <td>17.73698</td>\n",
       "      <td>17.07174</td>\n",
       "      <td>16.73274</td>\n",
       "      <td>16.53992</td>\n",
       "      <td>0.085522</td>\n",
       "      <td>data\\sdss\\SDSS_galaxy03.jpg</td>\n",
       "      <td>0.66524</td>\n",
       "      <td>389.815191</td>\n",
       "      <td>-20.882554</td>\n",
       "    </tr>\n",
       "    <tr>\n",
       "      <th>4</th>\n",
       "      <td>147.346017</td>\n",
       "      <td>7.188771</td>\n",
       "      <td>20.60811</td>\n",
       "      <td>18.63410</td>\n",
       "      <td>17.60214</td>\n",
       "      <td>17.18304</td>\n",
       "      <td>16.81255</td>\n",
       "      <td>0.128056</td>\n",
       "      <td>data\\sdss\\SDSS_galaxy04.jpg</td>\n",
       "      <td>1.03196</td>\n",
       "      <td>600.416124</td>\n",
       "      <td>-21.290122</td>\n",
       "    </tr>\n",
       "  </tbody>\n",
       "</table>\n",
       "</div>"
      ],
      "text/plain": [
       "           RA        DEC         u         g         r         i         z  \\\n",
       "0  133.410484  37.352685  20.37412  18.43065  17.48223  17.05733  16.77052   \n",
       "1  132.631845  31.092379  20.72427  18.91892  17.55565  17.03991  16.70897   \n",
       "2  148.320466  54.541002  20.11238  18.15816  16.82867  16.34992  16.00213   \n",
       "3  131.718462  35.731479  19.15211  17.73698  17.07174  16.73274  16.53992   \n",
       "4  147.346017   7.188771  20.60811  18.63410  17.60214  17.18304  16.81255   \n",
       "\n",
       "   redshift                     Filename      g-r     distance         Mr  \n",
       "0  0.103878  data\\sdss\\SDSS_galaxy00.jpg  0.94842   479.390047 -20.921215  \n",
       "1  0.241009  data\\sdss\\SDSS_galaxy01.jpg  1.36327  1208.864519 -22.856238  \n",
       "2  0.214942  data\\sdss\\SDSS_galaxy02.jpg  1.32949  1062.429193 -23.302830  \n",
       "3  0.085522  data\\sdss\\SDSS_galaxy03.jpg  0.66524   389.815191 -20.882554  \n",
       "4  0.128056  data\\sdss\\SDSS_galaxy04.jpg  1.03196   600.416124 -21.290122  "
      ]
     },
     "execution_count": 12,
     "metadata": {},
     "output_type": "execute_result"
    }
   ],
   "source": [
    "ellipticalDF['distance'] = cosmo.luminosity_distance(ellipticalDF['redshift'])\n",
    "ellipticalDF['Mr'] = ellipticalDF['r'] - 5*np.log10(ellipticalDF['distance']*1e6/10)\n",
    "\n",
    "ellipticalDF.head()"
   ]
  },
  {
   "cell_type": "code",
   "execution_count": 13,
   "metadata": {},
   "outputs": [
    {
     "data": {
      "text/plain": [
       "Text(0.5, 1.0, 'Diagrama color - Galaxias espirales')"
      ]
     },
     "execution_count": 13,
     "metadata": {},
     "output_type": "execute_result"
    },
    {
     "data": {
      "image/png": "[encoded data removed]",
      "text/plain": [
       "<Figure size 432x288 with 1 Axes>"
      ]
     },
     "metadata": {
      "needs_background": "light"
     },
     "output_type": "display_data"
    }
   ],
   "source": [
    "sns.scatterplot(x='Mr', y='g-r', data=spiralDF)\n",
    "plt.title('Diagrama color - Galaxias espirales')"
   ]
  },
  {
   "cell_type": "code",
   "execution_count": 14,
   "metadata": {},
   "outputs": [
    {
     "data": {
      "text/plain": [
       "(0.0, 1.379587499999999)"
      ]
     },
     "execution_count": 14,
     "metadata": {},
     "output_type": "execute_result"
    },
    {
     "data": {
      "image/png": "[encoded data removed]",
      "text/plain": [
       "<Figure size 432x288 with 1 Axes>"
      ]
     },
     "metadata": {
      "needs_background": "light"
     },
     "output_type": "display_data"
    }
   ],
   "source": [
    "sns.scatterplot(x='Mr', y='g-r', data=spiralDF)\n",
    "plt.title('Diagrama color - Galaxias espirales')\n",
    "plt.xlim(right=-16)\n",
    "plt.ylim(bottom=0)"
   ]
  },
  {
   "cell_type": "code",
   "execution_count": 15,
   "metadata": {},
   "outputs": [
    {
     "data": {
      "text/plain": [
       "Text(0.5, 1.0, 'Diagrama color - Galaxias elípticas')"
      ]
     },
     "execution_count": 15,
     "metadata": {},
     "output_type": "execute_result"
    },
    {
     "data": {
      "image/png": "[encoded data removed]",
      "text/plain": [
       "<Figure size 432x288 with 1 Axes>"
      ]
     },
     "metadata": {
      "needs_background": "light"
     },
     "output_type": "display_data"
    }
   ],
   "source": [
    "sns.scatterplot(x='Mr', y='g-r', data=ellipticalDF)\n",
    "plt.title('Diagrama color - Galaxias elípticas')"
   ]
  },
  {
   "cell_type": "markdown",
   "metadata": {},
   "source": [
    "### Análisis de regresión"
   ]
  },
  {
   "cell_type": "code",
   "execution_count": 16,
   "metadata": {},
   "outputs": [],
   "source": [
    "from sklearn.model_selection import train_test_split\n",
    "from sklearn.linear_model import LinearRegression"
   ]
  },
  {
   "cell_type": "code",
   "execution_count": 17,
   "metadata": {},
   "outputs": [
    {
     "name": "stdout",
     "output_type": "stream",
     "text": [
      "Tamaño del train set:  209\n",
      "Tamaño del test set:  90\n"
     ]
    }
   ],
   "source": [
    "trainDF, testDF = train_test_split(ellipticalDF, test_size=0.3, random_state=42)\n",
    "\n",
    "print(\"Tamaño del train set: \", len(trainDF))\n",
    "print(\"Tamaño del test set: \", len(testDF))"
   ]
  },
  {
   "cell_type": "code",
   "execution_count": 18,
   "metadata": {},
   "outputs": [],
   "source": [
    "X_train=np.array(trainDF['Mr'])[np.newaxis].T\n",
    "y_train=np.array(trainDF['g-r'])\n",
    "\n",
    "X_test=np.array(testDF['Mr'])[np.newaxis].T\n",
    "y_test=np.array(testDF['g-r'])"
   ]
  },
  {
   "cell_type": "code",
   "execution_count": 19,
   "metadata": {},
   "outputs": [
    {
     "name": "stdout",
     "output_type": "stream",
     "text": [
      "R^2 en entrenamiento: 0.375542\n",
      "R^2 en test: 0.505183\n"
     ]
    }
   ],
   "source": [
    "model = LinearRegression()\n",
    "model.fit(X_train, y_train)\n",
    "\n",
    "print(\"R^2 en entrenamiento: %f\" % model.score(X_train, y_train))\n",
    "print(\"R^2 en test: %f\" % model.score(X_test, y_test))"
   ]
  },
  {
   "cell_type": "markdown",
   "metadata": {},
   "source": [
    "### Usamos el modelo y hacemos predicciones"
   ]
  },
  {
   "cell_type": "code",
   "execution_count": 20,
   "metadata": {},
   "outputs": [],
   "source": [
    "X_pred = np.array(ellipticalDF['Mr'])[np.newaxis].T\n",
    "y_pred = model.predict(X_pred)"
   ]
  },
  {
   "cell_type": "code",
   "execution_count": 21,
   "metadata": {},
   "outputs": [
    {
     "data": {
      "text/plain": [
       "Text(0.5, 1.0, 'Diagrama color - Galaxias elípticas')"
      ]
     },
     "execution_count": 21,
     "metadata": {},
     "output_type": "execute_result"
    },
    {
     "data": {
      "image/png": "[encoded data removed]",
      "text/plain": [
       "<Figure size 432x288 with 1 Axes>"
      ]
     },
     "metadata": {
      "needs_background": "light"
     },
     "output_type": "display_data"
    }
   ],
   "source": [
    "sns.scatterplot(x='Mr', y='g-r', data=ellipticalDF)\n",
    "plt.plot(X_pred, y_pred, color='red', linewidth=3)\n",
    "plt.title('Diagrama color - Galaxias elípticas')"
   ]
  },
  {
   "cell_type": "markdown",
   "metadata": {},
   "source": [
    "### Limpieza de outliers"
   ]
  },
  {
   "cell_type": "code",
   "execution_count": 22,
   "metadata": {},
   "outputs": [],
   "source": [
    "from sklearn.neighbors import LocalOutlierFactor"
   ]
  },
  {
   "cell_type": "code",
   "execution_count": 23,
   "metadata": {},
   "outputs": [],
   "source": [
    "lof = LocalOutlierFactor()\n",
    "yhat = lof.fit_predict(X_train)\n",
    "\n",
    "# select all rows that are not outliers\n",
    "mask = yhat != -1\n",
    "X_train, y_train = X_train[mask, :], y_train[mask]"
   ]
  },
  {
   "cell_type": "code",
   "execution_count": 24,
   "metadata": {},
   "outputs": [
    {
     "name": "stdout",
     "output_type": "stream",
     "text": [
      "R^2 en entrenamiento: 0.372234\n",
      "R^2 en test: 0.568119\n"
     ]
    }
   ],
   "source": [
    "model = LinearRegression()\n",
    "model.fit(X_train, y_train)\n",
    "\n",
    "print(\"R^2 en entrenamiento: %f\" % model.score(X_train, y_train))\n",
    "print(\"R^2 en test: %f\" % model.score(X_test, y_test))"
   ]
  },
  {
   "cell_type": "code",
   "execution_count": 25,
   "metadata": {},
   "outputs": [],
   "source": [
    "X_pred = np.array(ellipticalDF['Mr'])[np.newaxis].T\n",
    "y_pred = model.predict(X_pred)"
   ]
  },
  {
   "cell_type": "code",
   "execution_count": 26,
   "metadata": {},
   "outputs": [
    {
     "data": {
      "text/plain": [
       "Text(0.5, 1.0, 'Diagrama color - Galaxias elípticas')"
      ]
     },
     "execution_count": 26,
     "metadata": {},
     "output_type": "execute_result"
    },
    {
     "data": {
      "image/png": "[encoded data removed]",
      "text/plain": [
       "<Figure size 432x288 with 1 Axes>"
      ]
     },
     "metadata": {
      "needs_background": "light"
     },
     "output_type": "display_data"
    }
   ],
   "source": [
    "sns.scatterplot(x='Mr', y='g-r', data=ellipticalDF)\n",
    "plt.plot(X_pred, y_pred, color='red', linewidth=3)\n",
    "plt.title('Diagrama color - Galaxias elípticas')"
   ]
  },
  {
   "cell_type": "code",
   "execution_count": null,
   "metadata": {},
   "outputs": [],
   "source": []
  },
  {
   "cell_type": "code",
   "execution_count": null,
   "metadata": {},
   "outputs": [],
   "source": []
  }
 ],
 "metadata": {
  "kernelspec": {
   "display_name": "Python 3",
   "language": "python",
   "name": "python3"
  },
  "language_info": {
   "codemirror_mode": {
    "name": "ipython",
    "version": 3
   },
   "file_extension": ".py",
   "mimetype": "text/x-python",
   "name": "python",
   "nbconvert_exporter": "python",
   "pygments_lexer": "ipython3",
   "version": "3.8.3"
  }
 },
 "nbformat": 4,
 "nbformat_minor": 4
}
